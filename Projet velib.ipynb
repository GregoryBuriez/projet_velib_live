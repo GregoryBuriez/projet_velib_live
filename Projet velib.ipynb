{
 "cells": [
  {
   "cell_type": "code",
   "execution_count": 60,
   "id": "0749ba4e",
   "metadata": {},
   "outputs": [],
   "source": [
    "import requests\n",
    "import pandas as pd\n",
    "\n",
    "# URL de l'API avec les paramètres spécifiés\n",
    "url = \"https://opendata.paris.fr/api/explore/v2.1/catalog/datasets/velib-disponibilite-en-temps-reel/records\"\n",
    "params = {\n",
    "    # \"where\": 'Paris',\n",
    "    \"limit\": 100,\n",
    "    \"timezone\": \"Europe/Paris\"\n",
    "}\n",
    "\n",
    "# Envoi de la requête GET\n",
    "response = requests.get(url, params=params)\n",
    "\n",
    "# Vérification du statut de la réponse\n",
    "if response.status_code == 200:\n",
    "    try:\n",
    "        data = response.json()\n",
    "        # Vérification de la présence de la clé 'results'\n",
    "        if 'results' in data:\n",
    "            # Extraction des informations pertinentes\n",
    "            stations = [\n",
    "                {\n",
    "                    'Code station': record.get('stationcode', 'N/A'),\n",
    "                    'Nom': record.get('name', 'N/A'),\n",
    "                    'Capacité': record.get('capacity', 'N/A'),\n",
    "                    'Bornes disponibles': record.get('numdocksavailable', 'N/A'),\n",
    "                    'Vélos disponibles': record.get('numbikesavailable', 'N/A'),\n",
    "                    'Vélos mécaniques disponibles': record.get('mechanical', 'N/A'),\n",
    "                    'Vélos électriques disponibles': record.get('ebike', 'N/A'),\n",
    "                    'Latitude': record.get('coordonnees_geo', {}).get('lat', 'N/A'),\n",
    "                    'Longitude': record.get('coordonnees_geo', {}).get('lon', 'N/A'),\n",
    "                    'Arrondissement': record.get('nom_arrondissement_communes', 'N/A'),\n",
    "                    'Code Insee': record.get('code_insee_commune', 'N/A'),\n",
    "                    'Date de mise à jour': record.get('duedate', 'N/A')\n",
    "                }\n",
    "                for record in data['results']\n",
    "            ]\n",
    "            # Création du DataFrame\n",
    "            df = pd.DataFrame(stations)\n",
    "        else:\n",
    "            print(\"Clé 'results' absente dans la réponse JSON.\")\n",
    "    except ValueError:\n",
    "        print(\"Erreur lors de la conversion de la réponse en JSON.\")\n",
    "else:\n",
    "    print(f\"Erreur lors de la récupération des données : {response.status_code}\")\n",
    "\n",
    "df.to_excel('velib_stations.xlsx', index=False)"
   ]
  },
  {
   "cell_type": "code",
   "execution_count": null,
   "id": "8299acbf",
   "metadata": {},
   "outputs": [],
   "source": []
  }
 ],
 "metadata": {
  "kernelspec": {
   "display_name": "Python 3 (ipykernel)",
   "language": "python",
   "name": "python3"
  },
  "language_info": {
   "codemirror_mode": {
    "name": "ipython",
    "version": 3
   },
   "file_extension": ".py",
   "mimetype": "text/x-python",
   "name": "python",
   "nbconvert_exporter": "python",
   "pygments_lexer": "ipython3",
   "version": "3.11.5"
  }
 },
 "nbformat": 4,
 "nbformat_minor": 5
}
